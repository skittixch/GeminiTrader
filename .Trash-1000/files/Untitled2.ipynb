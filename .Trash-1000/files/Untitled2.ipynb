{
 "cells": [
  {
   "cell_type": "code",
   "execution_count": 11,
   "id": "534b326e-f52b-4426-9888-f271caa0b973",
   "metadata": {},
   "outputs": [
    {
     "name": "stdout",
     "output_type": "stream",
     "text": [
      "Attempting to install NumPy version < 2.0 (e.g., 1.26.4)...\n",
      "Defaulting to user installation because normal site-packages is not writeable\n",
      "Requirement already satisfied: numpy<2.0 in /home/vscode/.local/lib/python3.12/site-packages (1.26.4)\n",
      "\n",
      "\u001b[1m[\u001b[0m\u001b[34;49mnotice\u001b[0m\u001b[1;39;49m]\u001b[0m\u001b[39;49m A new release of pip is available: \u001b[0m\u001b[31;49m24.3.1\u001b[0m\u001b[39;49m -> \u001b[0m\u001b[32;49m25.0.1\u001b[0m\n",
      "\u001b[1m[\u001b[0m\u001b[34;49mnotice\u001b[0m\u001b[1;39;49m]\u001b[0m\u001b[39;49m To update, run: \u001b[0m\u001b[32;49mpip install --upgrade pip\u001b[0m\n",
      "NumPy install/downgrade command executed.\n"
     ]
    }
   ],
   "source": [
    "# Cell to downgrade NumPy (Force version < 2.0)\n",
    "import sys\n",
    "print(\"Attempting to install NumPy version < 2.0 (e.g., 1.26.4)...\")\n",
    "!{sys.executable} -m pip install --upgrade \"numpy<2.0\"\n",
    "# Using \"<2.0\" lets pip choose the latest compatible 1.x version, often 1.26.4\n",
    "print(\"NumPy install/downgrade command executed.\")"
   ]
  },
  {
   "cell_type": "code",
   "execution_count": null,
   "id": "9fbc2ca4-0062-41b8-adf4-e0e3bccddc5a",
   "metadata": {},
   "outputs": [],
   "source": []
  }
 ],
 "metadata": {
  "kernelspec": {
   "display_name": "Python 3 (ipykernel)",
   "language": "python",
   "name": "python3"
  },
  "language_info": {
   "codemirror_mode": {
    "name": "ipython",
    "version": 3
   },
   "file_extension": ".py",
   "mimetype": "text/x-python",
   "name": "python",
   "nbconvert_exporter": "python",
   "pygments_lexer": "ipython3",
   "version": "3.12.9"
  }
 },
 "nbformat": 4,
 "nbformat_minor": 5
}
